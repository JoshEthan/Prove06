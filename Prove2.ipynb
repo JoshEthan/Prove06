{
  "nbformat": 4,
  "nbformat_minor": 0,
  "metadata": {
    "colab": {
      "name": "Prove2.ipynb",
      "provenance": [],
      "collapsed_sections": [],
      "authorship_tag": "ABX9TyPaG5zOQ83ykpEZLeZcljrd",
      "include_colab_link": true
    },
    "kernelspec": {
      "name": "python3",
      "display_name": "Python 3"
    }
  },
  "cells": [
    {
      "cell_type": "markdown",
      "metadata": {
        "id": "view-in-github",
        "colab_type": "text"
      },
      "source": [
        "<a href=\"https://colab.research.google.com/github/JoshEthan/Prove06/blob/master/Prove2.ipynb\" target=\"_parent\"><img src=\"https://colab.research.google.com/assets/colab-badge.svg\" alt=\"Open In Colab\"/></a>"
      ]
    },
    {
      "cell_type": "markdown",
      "metadata": {
        "id": "yLxooymTZA6H",
        "colab_type": "text"
      },
      "source": [
        "# LOAD THE DATA\n",
        "The first thing we need to do is load our data.\n",
        "\n",
        "---\n",
        "\n",
        "\n"
      ]
    },
    {
      "cell_type": "markdown",
      "metadata": {
        "id": "9bvYKCsbtE9E",
        "colab_type": "text"
      },
      "source": [
        "***If you use pandas to load the csv file, you'll have the data in a single pandas Data Frame."
      ]
    },
    {
      "cell_type": "code",
      "metadata": {
        "id": "X8Tb2In0aF5y",
        "colab_type": "code",
        "colab": {}
      },
      "source": [
        "import numpy as np\n",
        "import pandas as pd\n",
        "url = \"https://byui-cs.github.io/cs450-course/week01/iris.data\"\n",
        "data = pd.read_csv(url)"
      ],
      "execution_count": 0,
      "outputs": []
    },
    {
      "cell_type": "code",
      "metadata": {
        "id": "8qVtI6ZvYb2S",
        "colab_type": "code",
        "colab": {}
      },
      "source": [
        "#print(data)"
      ],
      "execution_count": 0,
      "outputs": []
    },
    {
      "cell_type": "markdown",
      "metadata": {
        "id": "K5ieq1beZOMu",
        "colab_type": "text"
      },
      "source": [
        "---\n",
        "# SPLIT THE DATA\n",
        "Randomly divide all of the samples into two groups.\n",
        "\n",
        "---\n",
        "\n"
      ]
    },
    {
      "cell_type": "markdown",
      "metadata": {
        "id": "CTWV-c0J4SYB",
        "colab_type": "text"
      },
      "source": [
        "Split data frame; one containing the features, and the other containing the targets."
      ]
    },
    {
      "cell_type": "code",
      "metadata": {
        "id": "O_L-kega4WOC",
        "colab_type": "code",
        "colab": {}
      },
      "source": [
        "df = pd.DataFrame(data)\n",
        "#df"
      ],
      "execution_count": 0,
      "outputs": []
    },
    {
      "cell_type": "markdown",
      "metadata": {
        "id": "1YekpumK4W2j",
        "colab_type": "text"
      },
      "source": [
        "Convert to numpy array."
      ]
    },
    {
      "cell_type": "code",
      "metadata": {
        "id": "lh6PCBZptVXa",
        "colab_type": "code",
        "colab": {
          "base_uri": "https://localhost:8080/",
          "height": 1000
        },
        "outputId": "242f77c6-9378-4f01-a1d4-d5f407f4040f"
      },
      "source": [
        "numpyArray = df.to_numpy()\n",
        "numpyArray"
      ],
      "execution_count": 185,
      "outputs": [
        {
          "output_type": "execute_result",
          "data": {
            "text/plain": [
              "array([[5.1, 3.5, 1.4, 0.2, 'Iris-setosa'],\n",
              "       [4.9, 3.0, 1.4, 0.2, 'Iris-setosa'],\n",
              "       [4.7, 3.2, 1.3, 0.2, 'Iris-setosa'],\n",
              "       [4.6, 3.1, 1.5, 0.2, 'Iris-setosa'],\n",
              "       [5.0, 3.6, 1.4, 0.2, 'Iris-setosa'],\n",
              "       [5.4, 3.9, 1.7, 0.4, 'Iris-setosa'],\n",
              "       [4.6, 3.4, 1.4, 0.3, 'Iris-setosa'],\n",
              "       [5.0, 3.4, 1.5, 0.2, 'Iris-setosa'],\n",
              "       [4.4, 2.9, 1.4, 0.2, 'Iris-setosa'],\n",
              "       [4.9, 3.1, 1.5, 0.1, 'Iris-setosa'],\n",
              "       [5.4, 3.7, 1.5, 0.2, 'Iris-setosa'],\n",
              "       [4.8, 3.4, 1.6, 0.2, 'Iris-setosa'],\n",
              "       [4.8, 3.0, 1.4, 0.1, 'Iris-setosa'],\n",
              "       [4.3, 3.0, 1.1, 0.1, 'Iris-setosa'],\n",
              "       [5.8, 4.0, 1.2, 0.2, 'Iris-setosa'],\n",
              "       [5.7, 4.4, 1.5, 0.4, 'Iris-setosa'],\n",
              "       [5.4, 3.9, 1.3, 0.4, 'Iris-setosa'],\n",
              "       [5.1, 3.5, 1.4, 0.3, 'Iris-setosa'],\n",
              "       [5.7, 3.8, 1.7, 0.3, 'Iris-setosa'],\n",
              "       [5.1, 3.8, 1.5, 0.3, 'Iris-setosa'],\n",
              "       [5.4, 3.4, 1.7, 0.2, 'Iris-setosa'],\n",
              "       [5.1, 3.7, 1.5, 0.4, 'Iris-setosa'],\n",
              "       [4.6, 3.6, 1.0, 0.2, 'Iris-setosa'],\n",
              "       [5.1, 3.3, 1.7, 0.5, 'Iris-setosa'],\n",
              "       [4.8, 3.4, 1.9, 0.2, 'Iris-setosa'],\n",
              "       [5.0, 3.0, 1.6, 0.2, 'Iris-setosa'],\n",
              "       [5.0, 3.4, 1.6, 0.4, 'Iris-setosa'],\n",
              "       [5.2, 3.5, 1.5, 0.2, 'Iris-setosa'],\n",
              "       [5.2, 3.4, 1.4, 0.2, 'Iris-setosa'],\n",
              "       [4.7, 3.2, 1.6, 0.2, 'Iris-setosa'],\n",
              "       [4.8, 3.1, 1.6, 0.2, 'Iris-setosa'],\n",
              "       [5.4, 3.4, 1.5, 0.4, 'Iris-setosa'],\n",
              "       [5.2, 4.1, 1.5, 0.1, 'Iris-setosa'],\n",
              "       [5.5, 4.2, 1.4, 0.2, 'Iris-setosa'],\n",
              "       [4.9, 3.1, 1.5, 0.1, 'Iris-setosa'],\n",
              "       [5.0, 3.2, 1.2, 0.2, 'Iris-setosa'],\n",
              "       [5.5, 3.5, 1.3, 0.2, 'Iris-setosa'],\n",
              "       [4.9, 3.1, 1.5, 0.1, 'Iris-setosa'],\n",
              "       [4.4, 3.0, 1.3, 0.2, 'Iris-setosa'],\n",
              "       [5.1, 3.4, 1.5, 0.2, 'Iris-setosa'],\n",
              "       [5.0, 3.5, 1.3, 0.3, 'Iris-setosa'],\n",
              "       [4.5, 2.3, 1.3, 0.3, 'Iris-setosa'],\n",
              "       [4.4, 3.2, 1.3, 0.2, 'Iris-setosa'],\n",
              "       [5.0, 3.5, 1.6, 0.6, 'Iris-setosa'],\n",
              "       [5.1, 3.8, 1.9, 0.4, 'Iris-setosa'],\n",
              "       [4.8, 3.0, 1.4, 0.3, 'Iris-setosa'],\n",
              "       [5.1, 3.8, 1.6, 0.2, 'Iris-setosa'],\n",
              "       [4.6, 3.2, 1.4, 0.2, 'Iris-setosa'],\n",
              "       [5.3, 3.7, 1.5, 0.2, 'Iris-setosa'],\n",
              "       [5.0, 3.3, 1.4, 0.2, 'Iris-setosa'],\n",
              "       [7.0, 3.2, 4.7, 1.4, 'Iris-versicolor'],\n",
              "       [6.4, 3.2, 4.5, 1.5, 'Iris-versicolor'],\n",
              "       [6.9, 3.1, 4.9, 1.5, 'Iris-versicolor'],\n",
              "       [5.5, 2.3, 4.0, 1.3, 'Iris-versicolor'],\n",
              "       [6.5, 2.8, 4.6, 1.5, 'Iris-versicolor'],\n",
              "       [5.7, 2.8, 4.5, 1.3, 'Iris-versicolor'],\n",
              "       [6.3, 3.3, 4.7, 1.6, 'Iris-versicolor'],\n",
              "       [4.9, 2.4, 3.3, 1.0, 'Iris-versicolor'],\n",
              "       [6.6, 2.9, 4.6, 1.3, 'Iris-versicolor'],\n",
              "       [5.2, 2.7, 3.9, 1.4, 'Iris-versicolor'],\n",
              "       [5.0, 2.0, 3.5, 1.0, 'Iris-versicolor'],\n",
              "       [5.9, 3.0, 4.2, 1.5, 'Iris-versicolor'],\n",
              "       [6.0, 2.2, 4.0, 1.0, 'Iris-versicolor'],\n",
              "       [6.1, 2.9, 4.7, 1.4, 'Iris-versicolor'],\n",
              "       [5.6, 2.9, 3.6, 1.3, 'Iris-versicolor'],\n",
              "       [6.7, 3.1, 4.4, 1.4, 'Iris-versicolor'],\n",
              "       [5.6, 3.0, 4.5, 1.5, 'Iris-versicolor'],\n",
              "       [5.8, 2.7, 4.1, 1.0, 'Iris-versicolor'],\n",
              "       [6.2, 2.2, 4.5, 1.5, 'Iris-versicolor'],\n",
              "       [5.6, 2.5, 3.9, 1.1, 'Iris-versicolor'],\n",
              "       [5.9, 3.2, 4.8, 1.8, 'Iris-versicolor'],\n",
              "       [6.1, 2.8, 4.0, 1.3, 'Iris-versicolor'],\n",
              "       [6.3, 2.5, 4.9, 1.5, 'Iris-versicolor'],\n",
              "       [6.1, 2.8, 4.7, 1.2, 'Iris-versicolor'],\n",
              "       [6.4, 2.9, 4.3, 1.3, 'Iris-versicolor'],\n",
              "       [6.6, 3.0, 4.4, 1.4, 'Iris-versicolor'],\n",
              "       [6.8, 2.8, 4.8, 1.4, 'Iris-versicolor'],\n",
              "       [6.7, 3.0, 5.0, 1.7, 'Iris-versicolor'],\n",
              "       [6.0, 2.9, 4.5, 1.5, 'Iris-versicolor'],\n",
              "       [5.7, 2.6, 3.5, 1.0, 'Iris-versicolor'],\n",
              "       [5.5, 2.4, 3.8, 1.1, 'Iris-versicolor'],\n",
              "       [5.5, 2.4, 3.7, 1.0, 'Iris-versicolor'],\n",
              "       [5.8, 2.7, 3.9, 1.2, 'Iris-versicolor'],\n",
              "       [6.0, 2.7, 5.1, 1.6, 'Iris-versicolor'],\n",
              "       [5.4, 3.0, 4.5, 1.5, 'Iris-versicolor'],\n",
              "       [6.0, 3.4, 4.5, 1.6, 'Iris-versicolor'],\n",
              "       [6.7, 3.1, 4.7, 1.5, 'Iris-versicolor'],\n",
              "       [6.3, 2.3, 4.4, 1.3, 'Iris-versicolor'],\n",
              "       [5.6, 3.0, 4.1, 1.3, 'Iris-versicolor'],\n",
              "       [5.5, 2.5, 4.0, 1.3, 'Iris-versicolor'],\n",
              "       [5.5, 2.6, 4.4, 1.2, 'Iris-versicolor'],\n",
              "       [6.1, 3.0, 4.6, 1.4, 'Iris-versicolor'],\n",
              "       [5.8, 2.6, 4.0, 1.2, 'Iris-versicolor'],\n",
              "       [5.0, 2.3, 3.3, 1.0, 'Iris-versicolor'],\n",
              "       [5.6, 2.7, 4.2, 1.3, 'Iris-versicolor'],\n",
              "       [5.7, 3.0, 4.2, 1.2, 'Iris-versicolor'],\n",
              "       [5.7, 2.9, 4.2, 1.3, 'Iris-versicolor'],\n",
              "       [6.2, 2.9, 4.3, 1.3, 'Iris-versicolor'],\n",
              "       [5.1, 2.5, 3.0, 1.1, 'Iris-versicolor'],\n",
              "       [5.7, 2.8, 4.1, 1.3, 'Iris-versicolor'],\n",
              "       [6.3, 3.3, 6.0, 2.5, 'Iris-virginica'],\n",
              "       [5.8, 2.7, 5.1, 1.9, 'Iris-virginica'],\n",
              "       [7.1, 3.0, 5.9, 2.1, 'Iris-virginica'],\n",
              "       [6.3, 2.9, 5.6, 1.8, 'Iris-virginica'],\n",
              "       [6.5, 3.0, 5.8, 2.2, 'Iris-virginica'],\n",
              "       [7.6, 3.0, 6.6, 2.1, 'Iris-virginica'],\n",
              "       [4.9, 2.5, 4.5, 1.7, 'Iris-virginica'],\n",
              "       [7.3, 2.9, 6.3, 1.8, 'Iris-virginica'],\n",
              "       [6.7, 2.5, 5.8, 1.8, 'Iris-virginica'],\n",
              "       [7.2, 3.6, 6.1, 2.5, 'Iris-virginica'],\n",
              "       [6.5, 3.2, 5.1, 2.0, 'Iris-virginica'],\n",
              "       [6.4, 2.7, 5.3, 1.9, 'Iris-virginica'],\n",
              "       [6.8, 3.0, 5.5, 2.1, 'Iris-virginica'],\n",
              "       [5.7, 2.5, 5.0, 2.0, 'Iris-virginica'],\n",
              "       [5.8, 2.8, 5.1, 2.4, 'Iris-virginica'],\n",
              "       [6.4, 3.2, 5.3, 2.3, 'Iris-virginica'],\n",
              "       [6.5, 3.0, 5.5, 1.8, 'Iris-virginica'],\n",
              "       [7.7, 3.8, 6.7, 2.2, 'Iris-virginica'],\n",
              "       [7.7, 2.6, 6.9, 2.3, 'Iris-virginica'],\n",
              "       [6.0, 2.2, 5.0, 1.5, 'Iris-virginica'],\n",
              "       [6.9, 3.2, 5.7, 2.3, 'Iris-virginica'],\n",
              "       [5.6, 2.8, 4.9, 2.0, 'Iris-virginica'],\n",
              "       [7.7, 2.8, 6.7, 2.0, 'Iris-virginica'],\n",
              "       [6.3, 2.7, 4.9, 1.8, 'Iris-virginica'],\n",
              "       [6.7, 3.3, 5.7, 2.1, 'Iris-virginica'],\n",
              "       [7.2, 3.2, 6.0, 1.8, 'Iris-virginica'],\n",
              "       [6.2, 2.8, 4.8, 1.8, 'Iris-virginica'],\n",
              "       [6.1, 3.0, 4.9, 1.8, 'Iris-virginica'],\n",
              "       [6.4, 2.8, 5.6, 2.1, 'Iris-virginica'],\n",
              "       [7.2, 3.0, 5.8, 1.6, 'Iris-virginica'],\n",
              "       [7.4, 2.8, 6.1, 1.9, 'Iris-virginica'],\n",
              "       [7.9, 3.8, 6.4, 2.0, 'Iris-virginica'],\n",
              "       [6.4, 2.8, 5.6, 2.2, 'Iris-virginica'],\n",
              "       [6.3, 2.8, 5.1, 1.5, 'Iris-virginica'],\n",
              "       [6.1, 2.6, 5.6, 1.4, 'Iris-virginica'],\n",
              "       [7.7, 3.0, 6.1, 2.3, 'Iris-virginica'],\n",
              "       [6.3, 3.4, 5.6, 2.4, 'Iris-virginica'],\n",
              "       [6.4, 3.1, 5.5, 1.8, 'Iris-virginica'],\n",
              "       [6.0, 3.0, 4.8, 1.8, 'Iris-virginica'],\n",
              "       [6.9, 3.1, 5.4, 2.1, 'Iris-virginica'],\n",
              "       [6.7, 3.1, 5.6, 2.4, 'Iris-virginica'],\n",
              "       [6.9, 3.1, 5.1, 2.3, 'Iris-virginica'],\n",
              "       [5.8, 2.7, 5.1, 1.9, 'Iris-virginica'],\n",
              "       [6.8, 3.2, 5.9, 2.3, 'Iris-virginica'],\n",
              "       [6.7, 3.3, 5.7, 2.5, 'Iris-virginica'],\n",
              "       [6.7, 3.0, 5.2, 2.3, 'Iris-virginica'],\n",
              "       [6.3, 2.5, 5.0, 1.9, 'Iris-virginica'],\n",
              "       [6.5, 3.0, 5.2, 2.0, 'Iris-virginica'],\n",
              "       [6.2, 3.4, 5.4, 2.3, 'Iris-virginica'],\n",
              "       [5.9, 3.0, 5.1, 1.8, 'Iris-virginica']], dtype=object)"
            ]
          },
          "metadata": {
            "tags": []
          },
          "execution_count": 185
        }
      ]
    },
    {
      "cell_type": "markdown",
      "metadata": {
        "id": "HXaHA_OsBQHb",
        "colab_type": "text"
      },
      "source": [
        "**ABOVE AND BEYOND**"
      ]
    },
    {
      "cell_type": "code",
      "metadata": {
        "id": "jGqFKdw9aDlD",
        "colab_type": "code",
        "colab": {
          "base_uri": "https://localhost:8080/",
          "height": 50
        },
        "outputId": "e45ee1b0-7592-4886-e2aa-6ce92efc44e8"
      },
      "source": [
        "test_percentage = int(input(\"What percentage of the samples will be used for testing to test?: \")) / 100\n",
        "print(test_percentage)\n"
      ],
      "execution_count": 186,
      "outputs": [
        {
          "output_type": "stream",
          "text": [
            "What percentage of the samples will be used for testing to test?: 45\n",
            "0.45\n"
          ],
          "name": "stdout"
        }
      ]
    },
    {
      "cell_type": "markdown",
      "metadata": {
        "id": "VskHhTv957cm",
        "colab_type": "text"
      },
      "source": [
        "Pass it to test_train_split."
      ]
    },
    {
      "cell_type": "code",
      "metadata": {
        "id": "rAgb1YD_5943",
        "colab_type": "code",
        "colab": {}
      },
      "source": [
        "from sklearn.model_selection import train_test_split\n",
        "\n",
        "features = numpyArray[ : , 0: 4]\n",
        "targets = numpyArray[ : , 4]\n",
        "\n",
        "# Randomize and split the samples into two groups. \n",
        "# 30% of the samples will be used for testing.\n",
        "# The other 70% will be used for training.\n",
        "train_data, test_data, train_targets, test_targets = train_test_split(features, targets, test_size=test_percentage)"
      ],
      "execution_count": 0,
      "outputs": []
    },
    {
      "cell_type": "code",
      "metadata": {
        "id": "rmKiewgDB4u8",
        "colab_type": "code",
        "colab": {}
      },
      "source": [
        "#targets"
      ],
      "execution_count": 0,
      "outputs": []
    },
    {
      "cell_type": "markdown",
      "metadata": {
        "id": "FMohZW0_HinC",
        "colab_type": "text"
      },
      "source": [
        "# TRAIN THE CLASSIFIER\n"
      ]
    },
    {
      "cell_type": "markdown",
      "metadata": {
        "id": "01HxmtwbHyKG",
        "colab_type": "text"
      },
      "source": [
        "First we create an instance of it"
      ]
    },
    {
      "cell_type": "code",
      "metadata": {
        "id": "qVMgCUUfH9J-",
        "colab_type": "code",
        "colab": {}
      },
      "source": [
        "from sklearn.naive_bayes import GaussianNB"
      ],
      "execution_count": 0,
      "outputs": []
    },
    {
      "cell_type": "markdown",
      "metadata": {
        "id": "U-_pzZ_tRd2a",
        "colab_type": "text"
      },
      "source": [
        "**'Predict' Method**\n",
        "> Take the list of 'n' test samples and a value for 'k'\n",
        "\n",
        "> Return a list of 'n' predictions (Three rows, three predictions)\n",
        "\n",
        ">For each sample in the test data use the 'calc_distance' method to calculate the distance between ***that sample*** and ***every sample*** in the training data.\n",
        "\n",
        "> Sort those distances\n",
        "\n",
        "> Determine the class that occurs the most often in the k closest cases.\n"
      ]
    },
    {
      "cell_type": "code",
      "metadata": {
        "id": "Ma8L_nLWzazM",
        "colab_type": "code",
        "colab": {}
      },
      "source": [
        "#test_data"
      ],
      "execution_count": 0,
      "outputs": []
    },
    {
      "cell_type": "code",
      "metadata": {
        "id": "RNsj_d6KP4R2",
        "colab_type": "code",
        "colab": {}
      },
      "source": [
        "#test_targets"
      ],
      "execution_count": 0,
      "outputs": []
    },
    {
      "cell_type": "code",
      "metadata": {
        "id": "B8Eb2M0YQHsk",
        "colab_type": "code",
        "colab": {}
      },
      "source": [
        "#train_data"
      ],
      "execution_count": 0,
      "outputs": []
    },
    {
      "cell_type": "code",
      "metadata": {
        "id": "US56tetZRtZr",
        "colab_type": "code",
        "colab": {}
      },
      "source": [
        "#train_data[0]"
      ],
      "execution_count": 0,
      "outputs": []
    },
    {
      "cell_type": "code",
      "metadata": {
        "id": "R5ULHQ8jRcUB",
        "colab_type": "code",
        "colab": {}
      },
      "source": [
        "from statistics import mode\n",
        "\n",
        "class HardCodedClassifier:\n",
        "  def fit(self, td, tt):\n",
        "    self.train_d = td\n",
        "    self.train_t = tt\n",
        "\n",
        "  def calc_distance(self, x1, x2):\n",
        "    return np.linalg.norm(x1-x2)\n",
        "\n",
        "  def getPredictedTarget(self, i, k):\n",
        "    list = []\n",
        "    for j in self.train_d:\n",
        "      list.append(self.calc_distance(i, j))\n",
        "    n = np.argsort(list)[:k]\n",
        "    target_list = []\n",
        "    for i in n:\n",
        "      target_list.append(self.train_t[i])\n",
        "    return mode(target_list)\n",
        "\n",
        "\n",
        "  def predict(self, test_d, k):\n",
        "    my_list = [] \n",
        "    n = np.size(test_d, 0)\n",
        "    for i in test_d:\n",
        "     my_list.append(self.getPredictedTarget(i, k))\n",
        "    return my_list"
      ],
      "execution_count": 0,
      "outputs": []
    },
    {
      "cell_type": "markdown",
      "metadata": {
        "id": "QdO6mX5MH9fy",
        "colab_type": "text"
      },
      "source": [
        "Then use the fit method to teach it about our data"
      ]
    },
    {
      "cell_type": "code",
      "metadata": {
        "id": "3kNASrg-IAK_",
        "colab_type": "code",
        "colab": {
          "base_uri": "https://localhost:8080/",
          "height": 34
        },
        "outputId": "22aa6cda-7710-48f7-dd94-3021f09dd8d6"
      },
      "source": [
        "classifier = GaussianNB()\n",
        "classifier.fit(train_data, train_targets)"
      ],
      "execution_count": 195,
      "outputs": [
        {
          "output_type": "execute_result",
          "data": {
            "text/plain": [
              "GaussianNB(priors=None, var_smoothing=1e-09)"
            ]
          },
          "metadata": {
            "tags": []
          },
          "execution_count": 195
        }
      ]
    },
    {
      "cell_type": "code",
      "metadata": {
        "id": "3XBWiH_kU9Xx",
        "colab_type": "code",
        "colab": {}
      },
      "source": [
        "new_classifier = HardCodedClassifier()\n",
        "new_classifier.fit(train_data, train_targets)"
      ],
      "execution_count": 0,
      "outputs": []
    },
    {
      "cell_type": "markdown",
      "metadata": {
        "id": "xnyRvGeAINUk",
        "colab_type": "text"
      },
      "source": [
        "# TEST THE CLASSIFIER"
      ]
    },
    {
      "cell_type": "markdown",
      "metadata": {
        "id": "Qer3Hw9cIkQP",
        "colab_type": "text"
      },
      "source": [
        "Use the `predict` method and provide it with our test data."
      ]
    },
    {
      "cell_type": "code",
      "metadata": {
        "id": "purMDPPmIRtn",
        "colab_type": "code",
        "colab": {}
      },
      "source": [
        "targets_predicted = classifier.predict(test_data)\n",
        "#print(targets_predicted)\n",
        "#print(len(targets_predicted))"
      ],
      "execution_count": 0,
      "outputs": []
    },
    {
      "cell_type": "code",
      "metadata": {
        "id": "aUIlCAcmVEj1",
        "colab_type": "code",
        "colab": {}
      },
      "source": [
        "new_targets_predicted = new_classifier.predict(test_data, 5)\n",
        "#print(new_targets_predicted)\n",
        "#print(len(new_targets_predicted))"
      ],
      "execution_count": 0,
      "outputs": []
    },
    {
      "cell_type": "markdown",
      "metadata": {
        "id": "08EEDuqTIw5w",
        "colab_type": "text"
      },
      "source": [
        "# ASSESS THE CLASSIFIER'S PERFORMANCE"
      ]
    },
    {
      "cell_type": "markdown",
      "metadata": {
        "id": "yahU2bqDQ2JC",
        "colab_type": "text"
      },
      "source": [
        "Compare the predictions made by the classifier to the sample's actual species"
      ]
    },
    {
      "cell_type": "code",
      "metadata": {
        "id": "w5W9kMMNNrFv",
        "colab_type": "code",
        "colab": {}
      },
      "source": [
        "res = sum(x == y for x, y in zip(targets_predicted, test_targets)) \n",
        "  \n",
        "# printing result \n",
        "#print(\"Summation of Identical elements : \" + str(res)) "
      ],
      "execution_count": 0,
      "outputs": []
    },
    {
      "cell_type": "code",
      "metadata": {
        "id": "hE2UAsxgXWgr",
        "colab_type": "code",
        "colab": {}
      },
      "source": [
        "new_res = sum(x == y for x, y in zip(new_targets_predicted, test_targets)) \n",
        "  \n",
        "# printing result \n",
        "#print(\"Summation of Identical elements : \" + str(new_res)) "
      ],
      "execution_count": 0,
      "outputs": []
    },
    {
      "cell_type": "markdown",
      "metadata": {
        "id": "QF6-b94jI6Td",
        "colab_type": "text"
      },
      "source": [
        "Calculate how well our algorithm performs."
      ]
    },
    {
      "cell_type": "code",
      "metadata": {
        "id": "NTCmmD_FP6JC",
        "colab_type": "code",
        "colab": {
          "base_uri": "https://localhost:8080/",
          "height": 34
        },
        "outputId": "57c2d184-8596-4782-b61d-ec338d4e84e4"
      },
      "source": [
        "accuracy = res / len(test_targets)\n",
        "print(\"Our algorithm has an accuracy of {0}%.\".format(round(100*accuracy)))"
      ],
      "execution_count": 201,
      "outputs": [
        {
          "output_type": "stream",
          "text": [
            "Our algorithm has an accuracy of 97%.\n"
          ],
          "name": "stdout"
        }
      ]
    },
    {
      "cell_type": "code",
      "metadata": {
        "id": "4aTnHCHhXg6D",
        "colab_type": "code",
        "colab": {
          "base_uri": "https://localhost:8080/",
          "height": 34
        },
        "outputId": "67d80433-9bd5-45e6-bfb8-d97d25a1a64c"
      },
      "source": [
        "new_accuracy = new_res / len(test_targets)\n",
        "print(\"Our algorithm has an accuracy of {0}%.\".format(round(100*new_accuracy)))"
      ],
      "execution_count": 202,
      "outputs": [
        {
          "output_type": "stream",
          "text": [
            "Our algorithm has an accuracy of 97%.\n"
          ],
          "name": "stdout"
        }
      ]
    },
    {
      "cell_type": "markdown",
      "metadata": {
        "id": "MdCf4ZMM3rRE",
        "colab_type": "text"
      },
      "source": [
        "# Basic Experimentation"
      ]
    },
    {
      "cell_type": "code",
      "metadata": {
        "id": "x4MWla02ZaLI",
        "colab_type": "code",
        "colab": {
          "base_uri": "https://localhost:8080/",
          "height": 134
        },
        "outputId": "4322ffdf-ae0d-4c0a-966d-4b8e6d340030"
      },
      "source": [
        "for i in range(1, 15, 2):\n",
        "  new_targets_predicted = new_classifier.predict(test_data, i)\n",
        "  new_res = sum(x == y for x, y in zip(new_targets_predicted, test_targets)) \n",
        "  new_accuracy = new_res / len(test_targets)\n",
        "  print(\"Our algorithm with k = {0} has an accuracy of {1}%.\".format(i, round(100*new_accuracy)))\n"
      ],
      "execution_count": 203,
      "outputs": [
        {
          "output_type": "stream",
          "text": [
            "Our algorithm with k = 1 has an accuracy of 96%.\n",
            "Our algorithm with k = 3 has an accuracy of 96%.\n",
            "Our algorithm with k = 5 has an accuracy of 97%.\n",
            "Our algorithm with k = 7 has an accuracy of 99%.\n",
            "Our algorithm with k = 9 has an accuracy of 99%.\n",
            "Our algorithm with k = 11 has an accuracy of 99%.\n",
            "Our algorithm with k = 13 has an accuracy of 99%.\n"
          ],
          "name": "stdout"
        }
      ]
    },
    {
      "cell_type": "markdown",
      "metadata": {
        "id": "mvX5S2Vw_i52",
        "colab_type": "text"
      },
      "source": [
        "# Experiment with Several More Datasets"
      ]
    },
    {
      "cell_type": "code",
      "metadata": {
        "id": "ZN8XmlOE4dZJ",
        "colab_type": "code",
        "colab": {
          "base_uri": "https://localhost:8080/",
          "height": 269
        },
        "outputId": "80314909-405d-4af5-88d4-f0723b617146"
      },
      "source": [
        "arr = np.array([[54.82, 0], \n",
        "               [55.02, 5], \n",
        "               [54.83, 10], \n",
        "               [54.88, 15], \n",
        "               [54.05, 20], \n",
        "               [54.24, 25], \n",
        "               [53.98, 30], \n",
        "               [54.01, 35],\n",
        "               [54.25, 40], \n",
        "               [54.31, 45], \n",
        "               [54.50, 50], \n",
        "               [54.95, 55],\n",
        "               [54.79, 60], \n",
        "               [54.81, 65], \n",
        "               [54.98, 70], \n",
        "               [54.97, 75],\n",
        "               [54.82, 0], \n",
        "               [55.02, 5], \n",
        "               [54.83, 10], \n",
        "               [54.88, 15], \n",
        "               [54.05, 20], \n",
        "               [54.24, 25], \n",
        "               [53.98, 30], \n",
        "               [54.01, 35],\n",
        "               [54.25, 40], \n",
        "               [54.31, 45], \n",
        "               [54.50, 50], \n",
        "               [54.95, 55],\n",
        "               [54.79, 60], \n",
        "               [54.81, 65], \n",
        "               [54.98, 70], \n",
        "               [54.97, 75],\n",
        "               [54.82, 0], \n",
        "               [55.02, 5], \n",
        "               [54.83, 10], \n",
        "               [54.88, 15], \n",
        "               [54.05, 20], \n",
        "               [54.24, 25], \n",
        "               [53.98, 30], \n",
        "               [54.01, 35],\n",
        "               [54.25, 40], \n",
        "               [54.31, 45], \n",
        "               [54.50, 50], \n",
        "               [54.95, 55],\n",
        "               [54.79, 60], \n",
        "               [54.81, 65], \n",
        "               [54.98, 70], \n",
        "               [54.97, 75]])\n",
        "features2 = arr[ : , 0: 1]\n",
        "targets2 = arr[ : , 1]\n",
        "train_data2, test_data2, train_targets2, test_targets2 = train_test_split(features2, targets2, test_size=test_percentage)\n",
        "new_classifier2 = HardCodedClassifier()\n",
        "new_classifier2.fit(train_data2, train_targets2)\n",
        "for i in range(1, 30, 2):\n",
        "  new_targets_predicted2 = new_classifier2.predict(test_data2, 1)\n",
        "  new_res = sum(x == y for x, y in zip(new_targets_predicted2, test_targets2)) \n",
        "  new_accuracy = new_res / len(test_targets2)\n",
        "  print(\"Our algorithm with k = {0} has an accuracy of {1}%.\".format(i, round(100*new_accuracy)))\n",
        "\n"
      ],
      "execution_count": 204,
      "outputs": [
        {
          "output_type": "stream",
          "text": [
            "Our algorithm with k = 1 has an accuracy of 59.0%.\n",
            "Our algorithm with k = 3 has an accuracy of 59.0%.\n",
            "Our algorithm with k = 5 has an accuracy of 59.0%.\n",
            "Our algorithm with k = 7 has an accuracy of 59.0%.\n",
            "Our algorithm with k = 9 has an accuracy of 59.0%.\n",
            "Our algorithm with k = 11 has an accuracy of 59.0%.\n",
            "Our algorithm with k = 13 has an accuracy of 59.0%.\n",
            "Our algorithm with k = 15 has an accuracy of 59.0%.\n",
            "Our algorithm with k = 17 has an accuracy of 59.0%.\n",
            "Our algorithm with k = 19 has an accuracy of 59.0%.\n",
            "Our algorithm with k = 21 has an accuracy of 59.0%.\n",
            "Our algorithm with k = 23 has an accuracy of 59.0%.\n",
            "Our algorithm with k = 25 has an accuracy of 59.0%.\n",
            "Our algorithm with k = 27 has an accuracy of 59.0%.\n",
            "Our algorithm with k = 29 has an accuracy of 59.0%.\n"
          ],
          "name": "stdout"
        }
      ]
    },
    {
      "cell_type": "markdown",
      "metadata": {
        "id": "BgAZtJEpWBab",
        "colab_type": "text"
      },
      "source": [
        "#Handle non-numeric data"
      ]
    },
    {
      "cell_type": "code",
      "metadata": {
        "id": "zv7i1j8QPnTe",
        "colab_type": "code",
        "colab": {
          "base_uri": "https://localhost:8080/",
          "height": 269
        },
        "outputId": "d6e089fb-fe27-4895-db6b-a2661316a550"
      },
      "source": [
        "arr = np.array([[\"Red\", \"Circle\"], \n",
        "               [\"Red\", \"Square\"], \n",
        "               [\"Green\", \"Square\"], \n",
        "               [\"Green\", \"Circle\"], \n",
        "               [\"Green\", \"Square\"], \n",
        "               [\"Red\", \"Circle\"], \n",
        "               [\"Red\", \"Square\"], \n",
        "               [\"Green\", \"Square\"],\n",
        "               [\"Red\", \"Circle\"], \n",
        "               [\"Green\", \"Square\"], \n",
        "               [\"Red\", \"Circle\"], \n",
        "               [\"Green\", \"Square\"],\n",
        "               [\"Red\", \"Circle\"], \n",
        "               [\"Green\", \"Square\"], \n",
        "               [\"Green\", \"Circle\"], \n",
        "               [\"Red\", \"Circle\"]])\n",
        "features2 = arr[ : , 0: 1]\n",
        "targets2 = arr[ : , 1]\n",
        "a = np.zeros(shape=(16,1))\n",
        "for x in range(0, 16):\n",
        "  if features2[x] == \"Red\":\n",
        "    a[x] = [1]  \n",
        "  elif features2[x] == \"Green\":\n",
        "    a[x] = [2]\n",
        "\n",
        "train_data2, test_data2, train_targets2, test_targets2 = train_test_split(a, targets2, test_size=test_percentage)\n",
        "new_classifier2 = HardCodedClassifier()\n",
        "new_classifier2.fit(train_data2, train_targets2)\n",
        "for i in range(1, 30, 2):\n",
        "  new_targets_predicted2 = new_classifier2.predict(test_data2, i)\n",
        "  new_res = sum(x == y for x, y in zip(new_targets_predicted2, test_targets2)) \n",
        "  new_accuracy = new_res / len(test_targets2)\n",
        "  print(\"Our algorithm with k = {0} has an accuracy of {1}%.\".format(i, round(100*new_accuracy)))"
      ],
      "execution_count": 206,
      "outputs": [
        {
          "output_type": "stream",
          "text": [
            "Our algorithm with k = 1 has an accuracy of 38%.\n",
            "Our algorithm with k = 3 has an accuracy of 62%.\n",
            "Our algorithm with k = 5 has an accuracy of 62%.\n",
            "Our algorithm with k = 7 has an accuracy of 38%.\n",
            "Our algorithm with k = 9 has an accuracy of 38%.\n",
            "Our algorithm with k = 11 has an accuracy of 38%.\n",
            "Our algorithm with k = 13 has an accuracy of 38%.\n",
            "Our algorithm with k = 15 has an accuracy of 38%.\n",
            "Our algorithm with k = 17 has an accuracy of 38%.\n",
            "Our algorithm with k = 19 has an accuracy of 38%.\n",
            "Our algorithm with k = 21 has an accuracy of 38%.\n",
            "Our algorithm with k = 23 has an accuracy of 38%.\n",
            "Our algorithm with k = 25 has an accuracy of 38%.\n",
            "Our algorithm with k = 27 has an accuracy of 38%.\n",
            "Our algorithm with k = 29 has an accuracy of 38%.\n"
          ],
          "name": "stdout"
        }
      ]
    }
  ]
}