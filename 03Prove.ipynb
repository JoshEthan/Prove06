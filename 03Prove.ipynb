{
  "nbformat": 4,
  "nbformat_minor": 0,
  "metadata": {
    "colab": {
      "name": "03Prove.ipynb",
      "provenance": [],
      "authorship_tag": "ABX9TyO7m6+xBDrHSmBwX+udGhw5",
      "include_colab_link": true
    },
    "kernelspec": {
      "name": "python3",
      "display_name": "Python 3"
    }
  },
  "cells": [
    {
      "cell_type": "markdown",
      "metadata": {
        "id": "view-in-github",
        "colab_type": "text"
      },
      "source": [
        "<a href=\"https://colab.research.google.com/github/JoshEthan/Prove06/blob/master/03Prove.ipynb\" target=\"_parent\"><img src=\"https://colab.research.google.com/assets/colab-badge.svg\" alt=\"Open In Colab\"/></a>"
      ]
    },
    {
      "cell_type": "code",
      "metadata": {
        "id": "VRNEdIhqWsec",
        "colab_type": "code",
        "outputId": "68e1348d-080c-46e0-8534-47df83f42e1f",
        "colab": {
          "base_uri": "https://localhost:8080/",
          "height": 34
        }
      },
      "source": [
        "#Read data from text files \n",
        "import pandas as pd\n",
        "url = \"https://archive.ics.uci.edu/ml/machine-learning-databases/car/car.data\"\n",
        "data = pd.read_csv(url)\n",
        "data.columns = [\"buying\", \"maint\", \"doors\", \n",
        "                \"persons\", \"lug_boot\", \"safety\",\n",
        "                \"unacc\"]\n",
        "#print(data)\n",
        "#print()\n",
        "\n",
        "#Handle non-numeric data\n",
        "data.buying = data.buying.astype('category')\n",
        "data.buying = data.buying.cat.codes\n",
        "\n",
        "data.maint = data.maint.astype('category')\n",
        "data.maint = data.maint.cat.codes\n",
        "\n",
        "data.doors = data.doors.astype('category')\n",
        "data.doors = data.doors.cat.codes\n",
        "\n",
        "data.persons = data.persons.astype('category')\n",
        "data.persons = data.persons.cat.codes\n",
        "\n",
        "data.lug_boot = data.lug_boot.astype('category')\n",
        "data.lug_boot = data.lug_boot.cat.codes\n",
        "\n",
        "data.safety = data.safety.astype('category')\n",
        "data.safety = data.safety.cat.codes\n",
        "\n",
        "data.unacc = data.unacc.astype('category')\n",
        "data.unacc = data.unacc.cat.codes\n",
        "\n",
        "#print(data)\n",
        "\n",
        "#Handle missing data\n",
        "from numpy import nan\n",
        "data = data.replace(\" ?\", nan)\n",
        "data.dropna(inplace=True)\n",
        "#print((data[\"buying\"] == \"vhigh\").sum()) #Check number of missing data\n",
        "\n",
        "#Use kNN for regression\n",
        "from sklearn.model_selection import train_test_split\n",
        "from sklearn.neighbors import KNeighborsClassifier\n",
        "from sklearn.neighbors import KNeighborsRegressor\n",
        "from sklearn.metrics import accuracy_score\n",
        "\n",
        "X = data.drop(columns=[\"unacc\"]).to_numpy() # Convert to Numpy Arrays\n",
        "y = data.unacc.to_numpy()\n",
        "X_train, X_test, y_train, y_test = train_test_split(X, y, test_size=0.2) # Split data up\n",
        "\n",
        "classifier = KNeighborsClassifier(n_neighbors=5) # Configure Test\n",
        "classifier.fit(X_train, y_train)\n",
        "predictions = classifier.predict(X_test) # Get predictions\n",
        "accuracy = accuracy_score(y_test, predictions) # Get Accuracy\n",
        "print(\"Accuracy: {}\".format(accuracy))\n",
        "\n",
        "regr = KNeighborsRegressor(n_neighbors=3) #Use kNN for regression\n",
        "regr.fit(X_train, y_train)\n",
        "predictions = regr.predict(X_test)\n",
        "\n",
        "\n",
        "#Basic experimentation on the provided datasets."
      ],
      "execution_count": 0,
      "outputs": [
        {
          "output_type": "stream",
          "text": [
            "Accuracy: 0.8988439306358381\n"
          ],
          "name": "stdout"
        }
      ]
    },
    {
      "cell_type": "code",
      "metadata": {
        "id": "pp5U8yMZ4WUh",
        "colab_type": "code",
        "outputId": "cd5f64a9-790f-49b3-b0e4-17bba1d5bd3c",
        "colab": {
          "base_uri": "https://localhost:8080/",
          "height": 34
        }
      },
      "source": [
        "#Read data from text files \n",
        "import pandas as pd\n",
        "url = \"https://archive.ics.uci.edu/ml/machine-learning-databases/auto-mpg/auto-mpg.data\"\n",
        "data = pd.read_csv(url, delim_whitespace=True)\n",
        "data.columns = [\"mpg\", \"cylinders\", \"displacement\", \n",
        "                \"horsepower\", \"weight\", \"acceleration\",\n",
        "                \"year\", \"origin\", \"name\"]\n",
        "#print(data)\n",
        "#print()\n",
        "\n",
        "#Handle non-numeric data\n",
        "data.acceleration = data.acceleration.astype('category')\n",
        "data.acceleration = data.acceleration.cat.codes\n",
        "\n",
        "data.year = data.year.astype('category')\n",
        "data.year = data.year.cat.codes\n",
        "\n",
        "data.mpg = data.mpg.astype('category')\n",
        "data.mpg = data.mpg.cat.codes\n",
        "\n",
        "#Handle missing data\n",
        "from numpy import nan\n",
        "data = data.replace(\"?\", nan)\n",
        "data.dropna(inplace=True)\n",
        "#print((data[\"buying\"] == \"vhigh\").sum()) #Check number of missing data\n",
        "\n",
        "#Use kNN for regression\n",
        "from sklearn.model_selection import train_test_split\n",
        "from sklearn.neighbors import KNeighborsClassifier\n",
        "from sklearn.neighbors import KNeighborsRegressor\n",
        "from sklearn.metrics import accuracy_score\n",
        "\n",
        "X = data.drop(columns=[\"mpg\", \"name\"]).to_numpy() # Convert to Numpy Arrays\n",
        "y = data.mpg.to_numpy()\n",
        "X_train, X_test, y_train, y_test = train_test_split(X, y, test_size=0.2) # Split data up\n",
        "\n",
        "classifier = KNeighborsClassifier(n_neighbors=5) # Configure Test\n",
        "classifier.fit(X_train, y_train)\n",
        "predictions = classifier.predict(X_test) # Get predictions\n",
        "accuracy = accuracy_score(y_test, predictions) # Get Accuracy\n",
        "print(\"Accuracy: {}\".format(accuracy))\n",
        "\n",
        "regr = KNeighborsRegressor(n_neighbors=3) #Use kNN for regression\n",
        "regr.fit(X_train, y_train)\n",
        "predictions = regr.predict(X_test)"
      ],
      "execution_count": 0,
      "outputs": [
        {
          "output_type": "stream",
          "text": [
            "Accuracy: 0.0759493670886076\n"
          ],
          "name": "stdout"
        }
      ]
    },
    {
      "cell_type": "code",
      "metadata": {
        "id": "1EB-EN5uCCTU",
        "colab_type": "code",
        "outputId": "1827aa18-c58d-4ccd-dd1c-87d53f42664f",
        "colab": {
          "base_uri": "https://localhost:8080/",
          "height": 34
        }
      },
      "source": [
        "#Read data from text files \n",
        "import pandas as pd\n",
        "url = \"student-mat.csv\"\n",
        "data = pd.read_csv(url, sep=';')\n",
        "pd.options.display.max_rows = 20\n",
        "pd.options.display.max_columns = None\n",
        "\n",
        "#print(data)\n",
        "#print()\n",
        "\n",
        "#Handle non-numeric data\n",
        "from numpy import array\n",
        "from sklearn.preprocessing import LabelEncoder\n",
        "values = array(data.school)                     #School\n",
        "label_encoder = LabelEncoder()\n",
        "integer_encoder = label_encoder.fit_transform(values)\n",
        "data.school = integer_encoder\n",
        "values = array(data.sex)                     #Sex\n",
        "label_encoder = LabelEncoder()\n",
        "integer_encoder = label_encoder.fit_transform(values)\n",
        "data.sex = integer_encoder\n",
        "values = array(data.address)                     #Address\n",
        "label_encoder = LabelEncoder()\n",
        "integer_encoder = label_encoder.fit_transform(values)\n",
        "data.address = integer_encoder\n",
        "values = array(data.famsize)                     #famsize\n",
        "label_encoder = LabelEncoder()\n",
        "integer_encoder = label_encoder.fit_transform(values)\n",
        "data.famsize = integer_encoder\n",
        "values = array(data.Pstatus)                     #Pstatus\n",
        "label_encoder = LabelEncoder()\n",
        "integer_encoder = label_encoder.fit_transform(values)\n",
        "data.Pstatus = integer_encoder\n",
        "values = array(data.guardian  )                     #guardian  \n",
        "label_encoder = LabelEncoder()\n",
        "integer_encoder = label_encoder.fit_transform(values)\n",
        "data.guardian = integer_encoder\n",
        "values = array(data.schoolsup   )                     #schoolsup   \n",
        "label_encoder = LabelEncoder()\n",
        "integer_encoder = label_encoder.fit_transform(values)\n",
        "data.schoolsup  = integer_encoder\n",
        "values = array(data.famsup   )                     #famsup   \n",
        "label_encoder = LabelEncoder()\n",
        "integer_encoder = label_encoder.fit_transform(values)\n",
        "data.famsup  = integer_encoder\n",
        "values = array(data.paid    )                     #paid    \n",
        "label_encoder = LabelEncoder()\n",
        "integer_encoder = label_encoder.fit_transform(values)\n",
        "data.paid   = integer_encoder\n",
        "values = array(data.activities)                     #activities  \n",
        "label_encoder = LabelEncoder()\n",
        "integer_encoder = label_encoder.fit_transform(values)\n",
        "data.activities = integer_encoder\n",
        "values = array(data.nursery)                     #nursery  \n",
        "label_encoder = LabelEncoder()\n",
        "integer_encoder = label_encoder.fit_transform(values)\n",
        "data.nursery = integer_encoder\n",
        "values = array(data.higher)                     #higher  \n",
        "label_encoder = LabelEncoder()\n",
        "integer_encoder = label_encoder.fit_transform(values)\n",
        "data.higher = integer_encoder\n",
        "values = array(data.internet)                     #internet  \n",
        "label_encoder = LabelEncoder()\n",
        "integer_encoder = label_encoder.fit_transform(values)\n",
        "data.internet = integer_encoder\n",
        "values = array(data.romantic)                     #romantic  \n",
        "label_encoder = LabelEncoder()\n",
        "integer_encoder = label_encoder.fit_transform(values)\n",
        "data.romantic = integer_encoder\n",
        "data.Mjob = data.Mjob.astype('category') #Mjob\n",
        "data.Mjob = data.Mjob.cat.codes\n",
        "data.Fjob = data.Fjob.astype('category')  #Fjob\n",
        "data.Fjob = data.Fjob.cat.codes\n",
        "data.reason = data.reason.astype('category')  #reason\n",
        "data.reason = data.reason.cat.codes\n",
        " \n",
        "#Handle missing data\n",
        "from numpy import nan\n",
        "data = data.replace(\"?\", nan)\n",
        "data.dropna(inplace=True)\n",
        "\n",
        "#Use kNN for regression\n",
        "from sklearn.model_selection import train_test_split\n",
        "from sklearn.neighbors import KNeighborsClassifier\n",
        "from sklearn.neighbors import KNeighborsRegressor\n",
        "from sklearn.metrics import accuracy_score\n",
        "\n",
        "X = data.drop(columns=[\"G3\"]).to_numpy() # Convert to Numpy Arrays\n",
        "y = data.G3.to_numpy()\n",
        "X_train, X_test, y_train, y_test = train_test_split(X, y, test_size=0.2) # Split data up\n",
        "\n",
        "classifier = KNeighborsClassifier(n_neighbors=5) # Configure Test\n",
        "classifier.fit(X_train, y_train)\n",
        "predictions = classifier.predict(X_test) # Get predictions\n",
        "accuracy = accuracy_score(y_test, predictions) # Get Accuracy\n",
        "print(\"Accuracy: {}\".format(accuracy))\n",
        "\n",
        "regr = KNeighborsRegressor(n_neighbors=3) #Use kNN for regression\n",
        "regr.fit(X_train, y_train)\n",
        "predictions = regr.predict(X_test)"
      ],
      "execution_count": 0,
      "outputs": [
        {
          "output_type": "stream",
          "text": [
            "Accuracy: 0.4430379746835443\n"
          ],
          "name": "stdout"
        }
      ]
    },
    {
      "cell_type": "markdown",
      "metadata": {
        "id": "vztYBMErgIat",
        "colab_type": "text"
      },
      "source": [
        "# Stretch: Another way to handle missing data"
      ]
    },
    {
      "cell_type": "code",
      "metadata": {
        "id": "CkrXaxGjmZSq",
        "colab_type": "code",
        "outputId": "0559a8cf-3abb-424b-e537-6d53a21490a2",
        "colab": {
          "base_uri": "https://localhost:8080/",
          "height": 34
        }
      },
      "source": [
        "#Explore multiple options for handling missing data, comparing the results of each approach.\n",
        "#Read data from text files \n",
        "import pandas as pd\n",
        "url = \"https://archive.ics.uci.edu/ml/machine-learning-databases/auto-mpg/auto-mpg.data\"\n",
        "data = pd.read_csv(url, delim_whitespace=True)\n",
        "data.columns = [\"mpg\", \"cylinders\", \"displacement\", \n",
        "                \"horsepower\", \"weight\", \"acceleration\",\n",
        "                \"year\", \"origin\", \"name\"]\n",
        "\n",
        "#Handle non-numeric data\n",
        "data.acceleration = data.acceleration.astype('category')\n",
        "data.acceleration = data.acceleration.cat.codes\n",
        "data.year = data.year.astype('category')\n",
        "data.year = data.year.cat.codes\n",
        "data.mpg = data.mpg.astype('category')\n",
        "data.mpg = data.mpg.cat.codes\n",
        "data.horsepower = data.horsepower.astype('category')\n",
        "data.horsepower = data.horsepower.cat.codes\n",
        "\n",
        "#Handle missing data\n",
        "from numpy import nan\n",
        "data = data.replace(\"?\", nan)\n",
        "data.fillna(int(round(data.horsepower.mean())), inplace=True)\n",
        "\n",
        "#Use kNN for regression\n",
        "from sklearn.model_selection import train_test_split\n",
        "from sklearn.neighbors import KNeighborsClassifier\n",
        "from sklearn.neighbors import KNeighborsRegressor\n",
        "from sklearn.metrics import accuracy_score\n",
        "\n",
        "X = data.drop(columns=[\"mpg\", \"name\"]).to_numpy() # Convert to Numpy Arrays\n",
        "y = data.mpg.to_numpy()\n",
        "X_train, X_test, y_train, y_test = train_test_split(X, y, test_size=0.2) # Split data up\n",
        "\n",
        "classifier = KNeighborsClassifier(n_neighbors=5) # Configure Test\n",
        "classifier.fit(X_train, y_train)\n",
        "predictions = classifier.predict(X_test) # Get predictions\n",
        "accuracy = accuracy_score(y_test, predictions) # Get Accuracy\n",
        "print(\"Accuracy: {}\".format(accuracy))\n",
        "\n",
        "regr = KNeighborsRegressor(n_neighbors=3) #Use kNN for regression\n",
        "regr.fit(X_train, y_train)\n",
        "predictions = regr.predict(X_test)"
      ],
      "execution_count": 0,
      "outputs": [
        {
          "output_type": "stream",
          "text": [
            "Accuracy: 0.0625\n"
          ],
          "name": "stdout"
        }
      ]
    }
  ]
}